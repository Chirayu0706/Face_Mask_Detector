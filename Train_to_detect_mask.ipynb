{
 "cells": [
  {
   "cell_type": "code",
   "execution_count": 126,
   "id": "bec1be6e",
   "metadata": {},
   "outputs": [],
   "source": [
    "import tensorflow as tf\n",
    "from imutils import paths\n",
    "import matplotlib.pyplot as plt\n",
    "import cv2 as cv\n",
    "import numpy as np\n",
    "import os\n",
    "from keras.preprocessing.image import ImageDataGenerator\n",
    "from PIL import Image"
   ]
  },
  {
   "cell_type": "code",
   "execution_count": 127,
   "id": "5ef0aaa3",
   "metadata": {},
   "outputs": [
    {
     "name": "stdout",
     "output_type": "stream",
     "text": [
      "['without_mask', 'with_mask']\n"
     ]
    }
   ],
   "source": [
    "p=[]\n",
    "for i in os.listdir(r'C:\\Users\\LENOVO\\Desktop\\Face Mask\\dataset'):\n",
    "    p.append(i)\n",
    "print(p)\n",
    "DIR = r'C:\\Users\\LENOVO\\Desktop\\Face Mask\\dataset'\n",
    "training_set=[]\n",
    "labels = []\n",
    "for types in p:\n",
    "    path_of_types = os.path.join(DIR,types)\n",
    "    label = p.index(types)\n",
    "    for img in os.listdir(path_of_types):\n",
    "        img_path = os.path.join(path_of_types,img)\n",
    "        if os.path.exists(img_path):\n",
    "            imgarray = cv.imread(img_path)\n",
    "            if not imgarray is None:\n",
    "                imgarray = cv.resize(imgarray,(64,64))\n",
    "                training_set.append(imgarray)\n",
    "                labels.append(label)"
   ]
  },
  {
   "cell_type": "code",
   "execution_count": 128,
   "id": "6f389281",
   "metadata": {
    "scrolled": false
   },
   "outputs": [],
   "source": [
    "training_set = np.array(training_set)\n",
    "labels = np.array(labels)"
   ]
  },
  {
   "cell_type": "code",
   "execution_count": 129,
   "id": "6c56d4f4",
   "metadata": {
    "scrolled": true
   },
   "outputs": [
    {
     "name": "stdout",
     "output_type": "stream",
     "text": [
      "(3810, 64, 64, 3)\n"
     ]
    }
   ],
   "source": [
    "print(training_set.shape)\n",
    "training_set = training_set/255"
   ]
  },
  {
   "cell_type": "code",
   "execution_count": 130,
   "id": "06500d17",
   "metadata": {
    "scrolled": true
   },
   "outputs": [],
   "source": [
    "cnn = tf.keras.models.Sequential()"
   ]
  },
  {
   "cell_type": "code",
   "execution_count": 131,
   "id": "d95d59ce",
   "metadata": {},
   "outputs": [],
   "source": [
    "cnn.add(tf.keras.layers.Conv2D(filters=32, kernel_size=3, activation='relu', input_shape=[64, 64, 3]))"
   ]
  },
  {
   "cell_type": "code",
   "execution_count": 132,
   "id": "303e3e8e",
   "metadata": {},
   "outputs": [],
   "source": [
    "cnn.add(tf.keras.layers.MaxPool2D(pool_size=2, strides=2))"
   ]
  },
  {
   "cell_type": "code",
   "execution_count": 133,
   "id": "54cc080b",
   "metadata": {},
   "outputs": [],
   "source": [
    "cnn.add(tf.keras.layers.Conv2D(filters=32, kernel_size=3, activation='relu'))\n",
    "cnn.add(tf.keras.layers.MaxPool2D(pool_size=2, strides=2))"
   ]
  },
  {
   "cell_type": "code",
   "execution_count": 134,
   "id": "4bf8be15",
   "metadata": {},
   "outputs": [],
   "source": [
    "cnn.add(tf.keras.layers.Flatten())"
   ]
  },
  {
   "cell_type": "code",
   "execution_count": 135,
   "id": "4dfae163",
   "metadata": {},
   "outputs": [],
   "source": [
    "cnn.add(tf.keras.layers.Dense(units=128, activation='relu'))"
   ]
  },
  {
   "cell_type": "code",
   "execution_count": 136,
   "id": "356de338",
   "metadata": {},
   "outputs": [],
   "source": [
    "cnn.add(tf.keras.layers.Dense(units=1, activation='sigmoid'))"
   ]
  },
  {
   "cell_type": "code",
   "execution_count": 137,
   "id": "c9b15b40",
   "metadata": {},
   "outputs": [],
   "source": [
    "cnn.compile(optimizer = 'adam', loss = 'binary_crossentropy', metrics = ['accuracy'])"
   ]
  },
  {
   "cell_type": "code",
   "execution_count": 138,
   "id": "42ca1f2d",
   "metadata": {
    "scrolled": true
   },
   "outputs": [
    {
     "name": "stdout",
     "output_type": "stream",
     "text": [
      "Epoch 1/25\n",
      "120/120 [==============================] - 49s 387ms/step - loss: 0.3555 - accuracy: 0.8378\n",
      "Epoch 2/25\n",
      "120/120 [==============================] - 50s 420ms/step - loss: 0.2150 - accuracy: 0.9247\n",
      "Epoch 3/25\n",
      "120/120 [==============================] - 51s 423ms/step - loss: 0.1501 - accuracy: 0.9467\n",
      "Epoch 4/25\n",
      "120/120 [==============================] - 53s 435ms/step - loss: 0.1181 - accuracy: 0.9593\n",
      "Epoch 5/25\n",
      "120/120 [==============================] - 38s 313ms/step - loss: 0.0955 - accuracy: 0.9675\n",
      "Epoch 6/25\n",
      "120/120 [==============================] - 43s 354ms/step - loss: 0.0818 - accuracy: 0.9703\n",
      "Epoch 7/25\n",
      "120/120 [==============================] - 44s 364ms/step - loss: 0.0603 - accuracy: 0.9774\n",
      "Epoch 8/25\n",
      "120/120 [==============================] - 45s 375ms/step - loss: 0.0490 - accuracy: 0.9824\n",
      "Epoch 9/25\n",
      "120/120 [==============================] - 42s 347ms/step - loss: 0.0527 - accuracy: 0.9819\n",
      "Epoch 10/25\n",
      "120/120 [==============================] - 44s 371ms/step - loss: 0.0293 - accuracy: 0.9892\n",
      "Epoch 11/25\n",
      "120/120 [==============================] - 50s 415ms/step - loss: 0.0235 - accuracy: 0.9906\n",
      "Epoch 12/25\n",
      "120/120 [==============================] - 61s 512ms/step - loss: 0.0168 - accuracy: 0.9958\n",
      "Epoch 13/25\n",
      "120/120 [==============================] - 51s 426ms/step - loss: 0.0187 - accuracy: 0.9942\n",
      "Epoch 14/25\n",
      "120/120 [==============================] - 44s 364ms/step - loss: 0.0179 - accuracy: 0.9929\n",
      "Epoch 15/25\n",
      "120/120 [==============================] - 43s 359ms/step - loss: 0.0099 - accuracy: 0.9976\n",
      "Epoch 16/25\n",
      "120/120 [==============================] - 44s 363ms/step - loss: 0.0033 - accuracy: 0.9992\n",
      "Epoch 17/25\n",
      "120/120 [==============================] - 44s 370ms/step - loss: 0.0026 - accuracy: 0.9995\n",
      "Epoch 18/25\n",
      "120/120 [==============================] - 42s 350ms/step - loss: 0.0013 - accuracy: 0.9997\n",
      "Epoch 19/25\n",
      "120/120 [==============================] - 44s 365ms/step - loss: 0.0015 - accuracy: 0.9997\n",
      "Epoch 20/25\n",
      "120/120 [==============================] - 44s 365ms/step - loss: 3.4578e-04 - accuracy: 1.0000\n",
      "Epoch 21/25\n",
      "120/120 [==============================] - 46s 381ms/step - loss: 2.5357e-04 - accuracy: 1.0000\n",
      "Epoch 22/25\n",
      "120/120 [==============================] - 48s 396ms/step - loss: 1.8608e-04 - accuracy: 1.0000\n",
      "Epoch 23/25\n",
      "120/120 [==============================] - 42s 351ms/step - loss: 1.6003e-04 - accuracy: 1.0000\n",
      "Epoch 24/25\n",
      "120/120 [==============================] - 37s 310ms/step - loss: 1.3782e-04 - accuracy: 1.0000\n",
      "Epoch 25/25\n",
      "120/120 [==============================] - 48s 404ms/step - loss: 1.1978e-04 - accuracy: 1.0000\n"
     ]
    },
    {
     "data": {
      "text/plain": [
       "<keras.callbacks.History at 0x1b58c07afa0>"
      ]
     },
     "execution_count": 138,
     "metadata": {},
     "output_type": "execute_result"
    }
   ],
   "source": [
    "cnn.fit(training_set,labels ,epochs = 25)"
   ]
  },
  {
   "cell_type": "code",
   "execution_count": 144,
   "id": "451fa50d",
   "metadata": {
    "scrolled": false
   },
   "outputs": [
    {
     "name": "stdout",
     "output_type": "stream",
     "text": [
      "Model: \"sequential_5\"\n",
      "_________________________________________________________________\n",
      " Layer (type)                Output Shape              Param #   \n",
      "=================================================================\n",
      " conv2d_10 (Conv2D)          (None, 62, 62, 32)        896       \n",
      "                                                                 \n",
      " max_pooling2d_10 (MaxPoolin  (None, 31, 31, 32)       0         \n",
      " g2D)                                                            \n",
      "                                                                 \n",
      " conv2d_11 (Conv2D)          (None, 29, 29, 32)        9248      \n",
      "                                                                 \n",
      " max_pooling2d_11 (MaxPoolin  (None, 14, 14, 32)       0         \n",
      " g2D)                                                            \n",
      "                                                                 \n",
      " flatten_5 (Flatten)         (None, 6272)              0         \n",
      "                                                                 \n",
      " dense_10 (Dense)            (None, 128)               802944    \n",
      "                                                                 \n",
      " dense_11 (Dense)            (None, 1)                 129       \n",
      "                                                                 \n",
      "=================================================================\n",
      "Total params: 813,217\n",
      "Trainable params: 813,217\n",
      "Non-trainable params: 0\n",
      "_________________________________________________________________\n"
     ]
    }
   ],
   "source": [
    "cnn.summary()"
   ]
  },
  {
   "cell_type": "code",
   "execution_count": 156,
   "id": "fb8f9354",
   "metadata": {
    "scrolled": true
   },
   "outputs": [
    {
     "name": "stdout",
     "output_type": "stream",
     "text": [
      "(630, 1200, 3)\n",
      "(1, 64, 64, 3)\n",
      "[[1.]]\n"
     ]
    }
   ],
   "source": [
    "test_image = cv.imread('pic.jpg')\n",
    "print(test_image.shape)\n",
    "te = cv.resize(test_image,(64,64))\n",
    "te = np.expand_dims(te, axis = 0)\n",
    "print(te.shape)\n",
    "prediction = cnn.predict(te)\n",
    "print(prediction)"
   ]
  },
  {
   "cell_type": "code",
   "execution_count": 153,
   "id": "79dae7b0",
   "metadata": {},
   "outputs": [],
   "source": [
    "cnn.save('model.h5')"
   ]
  },
  {
   "cell_type": "code",
   "execution_count": null,
   "id": "7177dca8",
   "metadata": {},
   "outputs": [],
   "source": []
  }
 ],
 "metadata": {
  "kernelspec": {
   "display_name": "Python 3 (ipykernel)",
   "language": "python",
   "name": "python3"
  },
  "language_info": {
   "codemirror_mode": {
    "name": "ipython",
    "version": 3
   },
   "file_extension": ".py",
   "mimetype": "text/x-python",
   "name": "python",
   "nbconvert_exporter": "python",
   "pygments_lexer": "ipython3",
   "version": "3.9.7"
  }
 },
 "nbformat": 4,
 "nbformat_minor": 5
}
