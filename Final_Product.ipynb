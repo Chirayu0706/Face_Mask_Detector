{
 "cells": [
  {
   "cell_type": "code",
   "execution_count": 13,
   "id": "a5bcfb5a",
   "metadata": {
    "scrolled": true
   },
   "outputs": [],
   "source": [
    "import numpy as np\n",
    "import cv2 as cv\n",
    "from tensorflow.keras.models import load_model\n",
    "from tensorflow.keras.preprocessing.image import img_to_array\n",
    "from tensorflow.keras.applications.mobilenet_v2 import preprocess_input\n",
    "from PIL import Image\n",
    "import imghdr\n",
    "from keras.preprocessing import image"
   ]
  },
  {
   "cell_type": "code",
   "execution_count": 14,
   "id": "d7b9b51b",
   "metadata": {
    "scrolled": false
   },
   "outputs": [],
   "source": [
    "cnn = load_model('model.h5')"
   ]
  },
  {
   "cell_type": "code",
   "execution_count": 15,
   "id": "ec145f7e",
   "metadata": {},
   "outputs": [],
   "source": [
    "def detect_faces (frame):\n",
    "    (h, w) = frame.shape[:2]\n",
    "    prototxtPath = r\"deploy.prototxt\"\n",
    "    weightsPath = r\"res10_300x300_ssd_iter_140000.caffemodel\"\n",
    "    faceNet = cv.dnn.readNet(prototxtPath,weightsPath)\n",
    "    blob = cv.dnn.blobFromImage(frame, 1.0, (224,224),(104.0, 177.0, 123.0))\n",
    "    faceNet.setInput(blob)\n",
    "    detections = faceNet.forward()\n",
    "    faces = []\n",
    "    locs = []\n",
    "    preds = []\n",
    "    for i in range(0, detections.shape[2]):\n",
    "        confidence = detections[0, 0, i, 2]\n",
    "        if confidence > 0.5:\n",
    "            box = detections[0, 0, i, 3:7] * np.array([w, h, w, h])\n",
    "            (startX, startY, endX, endY) = box.astype(\"int\")\n",
    "            (startX, startY) = (max(0, startX), max(0, startY))\n",
    "            (endX, endY) = (min(w - 1, endX), min(h - 1, endY))\n",
    "            face = frame[startY:endY, startX:endX]\n",
    "            locs.append((startX, startY, endX, endY))\n",
    "            return face,locs"
   ]
  },
  {
   "cell_type": "code",
   "execution_count": 16,
   "id": "efa1a8a0",
   "metadata": {},
   "outputs": [],
   "source": [
    "capture = cv.VideoCapture(0)\n",
    "while True:\n",
    "    isTrue, frame = capture.read()\n",
    "    framee,loc = detect_faces(frame)\n",
    "    framee = cv.resize(framee,(64,64))\n",
    "    framee = np.expand_dims(framee, axis = 0)\n",
    "    number = cnn.predict(framee)\n",
    "    if(number>0.5):\n",
    "        prediction = 'Mask'\n",
    "        cv.putText(frame,prediction,(loc[0][0],loc[0][1]),cv.FONT_HERSHEY_SIMPLEX,0.7,(0,255,0),2)\n",
    "        cv.rectangle(frame, (loc[0][0],loc[0][1]), (loc[0][2],loc[0][3]), (0,255,0), 2)\n",
    "    else:\n",
    "        prediction = 'NO Mask'\n",
    "        cv.putText(frame,prediction,(loc[0][0],loc[0][1]),cv.FONT_HERSHEY_SIMPLEX,0.7,(0,0,255),2)\n",
    "        cv.rectangle(frame, (loc[0][0],loc[0][1]), (loc[0][2],loc[0][3]), (0,0,255), 2)\n",
    "    \n",
    "    cv.imshow('Video',frame)\n",
    "    if cv.waitKey(20) & 0xFF==ord('d'):\n",
    "        cv.destroyAllWindows()\n",
    "        break\n",
    "capture.release()"
   ]
  },
  {
   "cell_type": "code",
   "execution_count": null,
   "id": "f221b6c1",
   "metadata": {},
   "outputs": [],
   "source": []
  }
 ],
 "metadata": {
  "kernelspec": {
   "display_name": "Python 3 (ipykernel)",
   "language": "python",
   "name": "python3"
  },
  "language_info": {
   "codemirror_mode": {
    "name": "ipython",
    "version": 3
   },
   "file_extension": ".py",
   "mimetype": "text/x-python",
   "name": "python",
   "nbconvert_exporter": "python",
   "pygments_lexer": "ipython3",
   "version": "3.9.7"
  }
 },
 "nbformat": 4,
 "nbformat_minor": 5
}
